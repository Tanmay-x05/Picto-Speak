{
 "cells": [
  {
   "cell_type": "code",
   "execution_count": 37,
   "id": "2a84d18a-9066-40f1-b7e3-0a683b9694d5",
   "metadata": {},
   "outputs": [
    {
     "name": "stdout",
     "output_type": "stream",
     "text": [
      "Text extraction complete. Output saved to: /Users/tanmaysingh/Desktop/aipr/recognized.txt\n"
     ]
    }
   ],
   "source": [
    "\n",
    "import cv2\n",
    "import pytesseract\n",
    "\n",
    "# === LOAD IMAGE ===\n",
    "image_path = \"/Users/tanmaysingh/Desktop/Unknown.jpeg\"\n",
    "img = cv2.imread(image_path)\n",
    "\n",
    "# Check if the image was successfully loaded\n",
    "if img is None:\n",
    "    raise FileNotFoundError(f\"Image not found at path: {image_path}\")\n",
    "\n",
    "# === PREPROCESSING ===\n",
    "gray = cv2.cvtColor(img, cv2.COLOR_BGR2GRAY)\n",
    "_, thresh = cv2.threshold(gray, 0, 255, cv2.THRESH_BINARY_INV + cv2.THRESH_OTSU)\n",
    "\n",
    "# Define kernel for dilation\n",
    "rect_kernel = cv2.getStructuringElement(cv2.MORPH_RECT, (18, 18))\n",
    "dilation = cv2.dilate(thresh, rect_kernel, iterations=1)\n",
    "\n",
    "# Find contours\n",
    "contours, _ = cv2.findContours(dilation, cv2.RETR_EXTERNAL, cv2.CHAIN_APPROX_NONE)\n",
    "\n",
    "# Copy original image to draw rectangles\n",
    "im2 = img.copy()\n",
    "\n",
    "# === TEXT DETECTION AND EXTRACTION ===\n",
    "output_file_path = \"/Users/tanmaysingh/Desktop/aipr/recognized.txt\"\n",
    "with open(output_file_path, \"w\") as file:\n",
    "    for cnt in contours:\n",
    "        x, y, w, h = cv2.boundingRect(cnt)\n",
    "        cropped = gray[y:y + h, x:x + w]  # Use grayscale for better OCR\n",
    "        \n",
    "        text = pytesseract.image_to_string(cropped)\n",
    "        cleaned_text = text.strip()\n",
    "        \n",
    "        if cleaned_text:\n",
    "            file.write(cleaned_text + \"\\n\")\n",
    "            # Draw rectangle around detected text\n",
    "            cv2.rectangle(im2, (x, y), (x + w, y + h), (0, 255, 0), 2)\n",
    "\n",
    "print(f\"Text extraction complete. Output saved to: {output_file_path}\")\n",
    "\n",
    "\n",
    "\n"
   ]
  },
  {
   "cell_type": "code",
   "execution_count": 43,
   "id": "a7532934-3dbb-4e5d-aac2-66b563039e70",
   "metadata": {},
   "outputs": [
    {
     "name": "stdout",
     "output_type": "stream",
     "text": [
      "Reading the text aloud...\n"
     ]
    }
   ],
   "source": [
    "\n",
    "import pyttsx3\n",
    "import os\n",
    "import sys\n",
    "\n",
    "def text_to_speech(file_path):\n",
    "    # Check if the file exists\n",
    "    if not os.path.isfile(file_path):\n",
    "        print(f\"Error: '{file_path}' not found.\")\n",
    "        return\n",
    "\n",
    "    # Initialize the pyttsx3 engine\n",
    "    try:\n",
    "        engine = pyttsx3.init()\n",
    "    except Exception as e:\n",
    "        print(f\"Error initializing the speech engine: {e}\")\n",
    "        return\n",
    "\n",
    "    # Set properties for the speech engine\n",
    "    engine.setProperty('rate', 150)\n",
    "    engine.setProperty('volume', 1.0)\n",
    "\n",
    "    # Read the text from the file\n",
    "    try:\n",
    "        with open(file_path, \"r\", encoding=\"utf-8\") as file:\n",
    "            text_to_speak = file.read().strip()\n",
    "    except Exception as e:\n",
    "        print(f\"Error reading the file: {e}\")\n",
    "        return\n",
    "\n",
    "    if text_to_speak:\n",
    "        print(\"Reading the text aloud...\")\n",
    "        engine.say(text_to_speak)\n",
    "        engine.runAndWait()\n",
    "    else:\n",
    "        print(\"The file is empty. No text to speak.\")\n",
    "\n",
    "if __name__ == \"__main__\":\n",
    "    # Filter out unintended args like '-f'\n",
    "    valid_args = [arg for arg in sys.argv[1:] if not arg.startswith(\"-\")]\n",
    "\n",
    "    if valid_args:\n",
    "        file_path = valid_args[0]\n",
    "    else:\n",
    "        file_path = \"/Users/tanmaysingh/Desktop/aipr/recognized.txt\"\n",
    "\n",
    "    text_to_speech(file_path)\n",
    "\n"
   ]
  },
  {
   "cell_type": "code",
   "execution_count": null,
   "id": "bc31d643-249f-4570-bbf1-77d3c029d22a",
   "metadata": {},
   "outputs": [],
   "source": []
  }
 ],
 "metadata": {
  "kernelspec": {
   "display_name": "Python 3 (ipykernel)",
   "language": "python",
   "name": "python3"
  },
  "language_info": {
   "codemirror_mode": {
    "name": "ipython",
    "version": 3
   },
   "file_extension": ".py",
   "mimetype": "text/x-python",
   "name": "python",
   "nbconvert_exporter": "python",
   "pygments_lexer": "ipython3",
   "version": "3.11.8"
  }
 },
 "nbformat": 4,
 "nbformat_minor": 5
}
